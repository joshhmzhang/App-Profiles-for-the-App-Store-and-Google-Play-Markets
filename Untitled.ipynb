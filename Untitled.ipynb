{
 "cells": [
  {
   "cell_type": "markdown",
   "metadata": {},
   "source": [
    "# Analysis on free apps in Google Play and the Apple Store\n",
    "The apps available on Google Play and the App Store. Goal for this project is to analyze data to help our developers understand what type of apps are likely to attract more users because the revenue is highly influenced by the number of people using our apps."
   ]
  },
  {
   "cell_type": "markdown",
   "metadata": {},
   "source": [
    "import apple data and google data"
   ]
  },
  {
   "cell_type": "code",
   "execution_count": 1,
   "metadata": {},
   "outputs": [
    {
     "name": "stdout",
     "output_type": "stream",
     "text": [
      "['1', '281656475', 'PAC-MAN Premium', '100788224', 'USD', '3.99', '21292', '26', '4', '4.5', '6.3.5', '4+', 'Games', '38', '5', '10', '1']\n",
      "\n",
      "\n",
      "['2', '281796108', 'Evernote - stay organized', '158578688', 'USD', '0', '161065', '26', '4', '3.5', '8.2.2', '4+', 'Productivity', '37', '5', '23', '1']\n",
      "\n",
      "\n",
      "Number of rows: 7197\n",
      "Number of columns: 17\n"
     ]
    }
   ],
   "source": [
    "from csv import reader\n",
    "openfileapple=open('AppleStore.csv')\n",
    "readfileapple=reader(openfileapple)\n",
    "dataapple=list(readfileapple)\n",
    "dataappleheader=dataapple[0]\n",
    "dataapple=dataapple[1:]\n",
    "\n",
    "openfilegoogle=open('googleplaystore.csv')\n",
    "readfilegoogle=reader(openfilegoogle)\n",
    "datagoogle=list(readfilegoogle)\n",
    "datagoogleheader=datagoogle[0]\n",
    "datagoogle=datagoogle[1:]\n",
    "\n",
    "\n",
    "def explore_data(dataset, start, end, rows_and_columns=True):\n",
    "    dataset_slice = dataset[start:end]    \n",
    "    for row in dataset_slice:\n",
    "        print(row)\n",
    "        print('\\n') # adds a new (empty) line after each row\n",
    "\n",
    "    if rows_and_columns:\n",
    "        print('Number of rows:', len(dataset))\n",
    "        print('Number of columns:', len(dataset[0]))\n",
    "        \n",
    "explore_data(dataapple,0,2)"
   ]
  },
  {
   "cell_type": "code",
   "execution_count": 2,
   "metadata": {},
   "outputs": [
    {
     "name": "stdout",
     "output_type": "stream",
     "text": [
      "['Photo Editor & Candy Camera & Grid & ScrapBook', 'ART_AND_DESIGN', '4.1', '159', '19M', '10,000+', 'Free', '0', 'Everyone', 'Art & Design', 'January 7, 2018', '1.0.0', '4.0.3 and up']\n",
      "\n",
      "\n",
      "['Coloring book moana', 'ART_AND_DESIGN', '3.9', '967', '14M', '500,000+', 'Free', '0', 'Everyone', 'Art & Design;Pretend Play', 'January 15, 2018', '2.0.0', '4.0.3 and up']\n",
      "\n",
      "\n",
      "['U Launcher Lite – FREE Live Cool Themes, Hide Apps', 'ART_AND_DESIGN', '4.7', '87510', '8.7M', '5,000,000+', 'Free', '0', 'Everyone', 'Art & Design', 'August 1, 2018', '1.2.4', '4.0.3 and up']\n",
      "\n",
      "\n",
      "['Sketch - Draw & Paint', 'ART_AND_DESIGN', '4.5', '215644', '25M', '50,000,000+', 'Free', '0', 'Teen', 'Art & Design', 'June 8, 2018', 'Varies with device', '4.2 and up']\n",
      "\n",
      "\n",
      "Number of rows: 10841\n",
      "Number of columns: 13\n"
     ]
    }
   ],
   "source": [
    "explore_data(datagoogle,0,4)"
   ]
  },
  {
   "cell_type": "code",
   "execution_count": 3,
   "metadata": {},
   "outputs": [
    {
     "name": "stdout",
     "output_type": "stream",
     "text": [
      "['', 'id', 'track_name', 'size_bytes', 'currency', 'price', 'rating_count_tot', 'rating_count_ver', 'user_rating', 'user_rating_ver', 'ver', 'cont_rating', 'prime_genre', 'sup_devices.num', 'ipadSc_urls.num', 'lang.num', 'vpp_lic']\n",
      "\n",
      "\n",
      "['App', 'Category', 'Rating', 'Reviews', 'Size', 'Installs', 'Type', 'Price', 'Content Rating', 'Genres', 'Last Updated', 'Current Ver', 'Android Ver']\n"
     ]
    }
   ],
   "source": [
    "print(dataappleheader)\n",
    "print('\\n')\n",
    "print(datagoogleheader)"
   ]
  },
  {
   "cell_type": "markdown",
   "metadata": {},
   "source": [
    "## Data Cleaning\n",
    "1. Removed inaccurate data\n",
    "2. Removed duplicate app entries\n",
    "3. Removed non-English apps\n",
    "4. Isolated the free apps\n",
    "\n",
    "\n",
    "\n",
    "* Detect inaccurate data, and correct or remove it.\n"
   ]
  },
  {
   "cell_type": "code",
   "execution_count": 4,
   "metadata": {},
   "outputs": [
    {
     "name": "stdout",
     "output_type": "stream",
     "text": [
      "['Life Made WI-Fi Touchscreen Photo Frame', '1.9', '19', '3.0M', '1,000+', 'Free', '0', 'Everyone', '', 'February 11, 2018', '1.0.19', '4.0 and up']\n"
     ]
    }
   ],
   "source": [
    "print(datagoogle[10472])"
   ]
  },
  {
   "cell_type": "markdown",
   "metadata": {},
   "source": [
    "since the colum \"Category\" is missing for the row[10472], so need to be deleted"
   ]
  },
  {
   "cell_type": "code",
   "execution_count": 5,
   "metadata": {},
   "outputs": [],
   "source": [
    "del datagoogle[10472]"
   ]
  },
  {
   "cell_type": "markdown",
   "metadata": {},
   "source": [
    "* Detect duplicate data, and remove the duplicates."
   ]
  },
  {
   "cell_type": "code",
   "execution_count": 6,
   "metadata": {
    "scrolled": true
   },
   "outputs": [
    {
     "name": "stdout",
     "output_type": "stream",
     "text": [
      "The number of duplicate records for Apple apps: 0\n"
     ]
    }
   ],
   "source": [
    "duplicateapple=[]\n",
    "uniqueapple=[]\n",
    "for item in dataapple:\n",
    "    name=item[0]\n",
    "    if name in uniqueapple:\n",
    "        duplicateapple.append(name)\n",
    "    else:uniqueapple.append(name)  \n",
    "print('The number of duplicate records for Apple apps:',len(duplicateapple))"
   ]
  },
  {
   "cell_type": "code",
   "execution_count": 7,
   "metadata": {},
   "outputs": [
    {
     "name": "stdout",
     "output_type": "stream",
     "text": [
      "The number of duplicate records for andriod: 1181\n"
     ]
    }
   ],
   "source": [
    "duplicategoogle=[]\n",
    "uniquegoogle=[]\n",
    "for item in datagoogle:\n",
    "    name=item[0]\n",
    "    if name in uniquegoogle:\n",
    "        duplicategoogle.append(name)\n",
    "    else:uniquegoogle.append(name)  \n",
    "print('The number of duplicate records for andriod:', len(duplicategoogle))"
   ]
  },
  {
   "cell_type": "markdown",
   "metadata": {},
   "source": [
    "Show some duplicate records"
   ]
  },
  {
   "cell_type": "code",
   "execution_count": 8,
   "metadata": {},
   "outputs": [
    {
     "name": "stdout",
     "output_type": "stream",
     "text": [
      "['Quick PDF Scanner + OCR FREE', 'Box', 'Google My Business', 'ZOOM Cloud Meetings', 'join.me - Simple Meetings']\n"
     ]
    }
   ],
   "source": [
    "print(duplicategoogle[:5])"
   ]
  },
  {
   "cell_type": "markdown",
   "metadata": {},
   "source": [
    "check one record as example"
   ]
  },
  {
   "cell_type": "code",
   "execution_count": 9,
   "metadata": {},
   "outputs": [
    {
     "name": "stdout",
     "output_type": "stream",
     "text": [
      "['Instagram', 'SOCIAL', '4.5', '66577313', 'Varies with device', '1,000,000,000+', 'Free', '0', 'Teen', 'Social', 'July 31, 2018', 'Varies with device', 'Varies with device']\n",
      "['Instagram', 'SOCIAL', '4.5', '66577446', 'Varies with device', '1,000,000,000+', 'Free', '0', 'Teen', 'Social', 'July 31, 2018', 'Varies with device', 'Varies with device']\n",
      "['Instagram', 'SOCIAL', '4.5', '66577313', 'Varies with device', '1,000,000,000+', 'Free', '0', 'Teen', 'Social', 'July 31, 2018', 'Varies with device', 'Varies with device']\n",
      "['Instagram', 'SOCIAL', '4.5', '66509917', 'Varies with device', '1,000,000,000+', 'Free', '0', 'Teen', 'Social', 'July 31, 2018', 'Varies with device', 'Varies with device']\n"
     ]
    }
   ],
   "source": [
    "for item in datagoogle:\n",
    "    if item[0]=='Instagram':\n",
    "        print(item)"
   ]
  },
  {
   "cell_type": "markdown",
   "metadata": {},
   "source": [
    "the review canbe used as criterion for removing the duplicates.we keep the largest number of review"
   ]
  },
  {
   "cell_type": "markdown",
   "metadata": {},
   "source": [
    "Create a dictionary, where each dictionary key is a unique app name and the corresponding dictionary value is the highest number of reviews of that app.\n"
   ]
  },
  {
   "cell_type": "code",
   "execution_count": 10,
   "metadata": {},
   "outputs": [],
   "source": [
    "reviews_max={}\n",
    "for item in datagoogle:\n",
    "    name=item[0]\n",
    "    num_reviews=float(item[3])\n",
    "    if name in reviews_max and reviews_max[name]<num_reviews:\n",
    "        reviews_max[name]=num_reviews\n",
    "    elif name not in reviews_max:\n",
    "        reviews_max[name]=num_reviews       "
   ]
  },
  {
   "cell_type": "code",
   "execution_count": 11,
   "metadata": {},
   "outputs": [
    {
     "name": "stdout",
     "output_type": "stream",
     "text": [
      "Expected Records 9659\n",
      "Cleaned Records 9659\n"
     ]
    }
   ],
   "source": [
    "print('Expected Records',len(datagoogle)-1181)\n",
    "print('Cleaned Records',len(reviews_max))\n"
   ]
  },
  {
   "cell_type": "markdown",
   "metadata": {},
   "source": [
    "generate cleaned data for google app"
   ]
  },
  {
   "cell_type": "code",
   "execution_count": 12,
   "metadata": {},
   "outputs": [],
   "source": [
    "googleclean=[]\n",
    "actualadd=[]\n",
    "for item in datagoogle:\n",
    "    name=item[0]\n",
    "    num_reviews=float(item[3])\n",
    "    if name not in actualadd and num_reviews ==reviews_max[name]:\n",
    "        googleclean.append(item)\n",
    "        actualadd.append(name)\n",
    "    "
   ]
  },
  {
   "cell_type": "markdown",
   "metadata": {},
   "source": [
    "to confirm if cleaned data is the same to what expected"
   ]
  },
  {
   "cell_type": "code",
   "execution_count": 13,
   "metadata": {},
   "outputs": [
    {
     "name": "stdout",
     "output_type": "stream",
     "text": [
      "['Photo Editor & Candy Camera & Grid & ScrapBook', 'ART_AND_DESIGN', '4.1', '159', '19M', '10,000+', 'Free', '0', 'Everyone', 'Art & Design', 'January 7, 2018', '1.0.0', '4.0.3 and up']\n",
      "\n",
      "\n",
      "['U Launcher Lite – FREE Live Cool Themes, Hide Apps', 'ART_AND_DESIGN', '4.7', '87510', '8.7M', '5,000,000+', 'Free', '0', 'Everyone', 'Art & Design', 'August 1, 2018', '1.2.4', '4.0.3 and up']\n",
      "\n",
      "\n",
      "['Sketch - Draw & Paint', 'ART_AND_DESIGN', '4.5', '215644', '25M', '50,000,000+', 'Free', '0', 'Teen', 'Art & Design', 'June 8, 2018', 'Varies with device', '4.2 and up']\n",
      "\n",
      "\n",
      "['Pixel Draw - Number Art Coloring Book', 'ART_AND_DESIGN', '4.3', '967', '2.8M', '100,000+', 'Free', '0', 'Everyone', 'Art & Design;Creativity', 'June 20, 2018', '1.1', '4.4 and up']\n",
      "\n",
      "\n",
      "Number of rows: 9659\n",
      "Number of columns: 13\n"
     ]
    }
   ],
   "source": [
    "explore_data(googleclean,0,4,True)"
   ]
  },
  {
   "cell_type": "markdown",
   "metadata": {},
   "source": [
    "* to remove the none English app\n",
    "\n",
    "The numbers corresponding to the characters we commonly use in an English text are all in the range 0 to 127. use ord(' ') "
   ]
  },
  {
   "cell_type": "code",
   "execution_count": 14,
   "metadata": {},
   "outputs": [],
   "source": [
    "def englishcheck(string):\n",
    "    for character in string:\n",
    "        if ord(character) >127:\n",
    "            return False\n",
    "        else: return True"
   ]
  },
  {
   "cell_type": "code",
   "execution_count": 15,
   "metadata": {},
   "outputs": [
    {
     "name": "stdout",
     "output_type": "stream",
     "text": [
      "True\n",
      "False\n"
     ]
    }
   ],
   "source": [
    "print(englishcheck('Instagram'))\n",
    "print(englishcheck('爱奇艺PPS'))"
   ]
  },
  {
   "cell_type": "markdown",
   "metadata": {},
   "source": [
    "To minimize the impact of data loss, we'll only remove an app if its name has more than three characters with corresponding numbers falling outside the ASCII range. This means all English apps with up to three emoji or other special characters will still be labeled as English. Our filter function is still not perfect, but it should be fairly effective."
   ]
  },
  {
   "cell_type": "code",
   "execution_count": 16,
   "metadata": {},
   "outputs": [
    {
     "name": "stdout",
     "output_type": "stream",
     "text": [
      "True\n",
      "True\n"
     ]
    }
   ],
   "source": [
    "def englishcheck(string):\n",
    "    nonenglish_num=0\n",
    "    for character in string:\n",
    "        if ord(character) >127:\n",
    "            nonenglish_num+=1\n",
    "    if nonenglish_num>=2:\n",
    "        return False\n",
    "    else:\n",
    "        return True\n",
    "\n",
    "print(englishcheck('Docs To Go™ Free Office Suite'))\n",
    "print(englishcheck('Instachat 😜'))"
   ]
  },
  {
   "cell_type": "markdown",
   "metadata": {},
   "source": [
    "Use the new function to filter out non-English apps from both data sets. Loop through each data set. If an app name is identified as English, append the whole row to a separate list."
   ]
  },
  {
   "cell_type": "code",
   "execution_count": 17,
   "metadata": {},
   "outputs": [],
   "source": [
    "datagoogle_englishonly=[]\n",
    "dataapple_englishonly=[]\n",
    "for item in googleclean:\n",
    "    name=item[0]\n",
    "    if englishcheck(name):\n",
    "        datagoogle_englishonly.append(item)\n",
    "        \n",
    "for item in dataapple:\n",
    "    name=item[2]\n",
    "    if englishcheck(name):\n",
    "        dataapple_englishonly.append(item) \n"
   ]
  },
  {
   "cell_type": "markdown",
   "metadata": {},
   "source": [
    "Explore the data sets and check how many rows remains"
   ]
  },
  {
   "cell_type": "code",
   "execution_count": 18,
   "metadata": {},
   "outputs": [
    {
     "name": "stdout",
     "output_type": "stream",
     "text": [
      "['1', '281656475', 'PAC-MAN Premium', '100788224', 'USD', '3.99', '21292', '26', '4', '4.5', '6.3.5', '4+', 'Games', '38', '5', '10', '1']\n",
      "\n",
      "\n",
      "['2', '281796108', 'Evernote - stay organized', '158578688', 'USD', '0', '161065', '26', '4', '3.5', '8.2.2', '4+', 'Productivity', '37', '5', '23', '1']\n",
      "\n",
      "\n",
      "Number of rows: 6100\n",
      "Number of columns: 17\n",
      "\n",
      "\n",
      "['Photo Editor & Candy Camera & Grid & ScrapBook', 'ART_AND_DESIGN', '4.1', '159', '19M', '10,000+', 'Free', '0', 'Everyone', 'Art & Design', 'January 7, 2018', '1.0.0', '4.0.3 and up']\n",
      "\n",
      "\n",
      "['U Launcher Lite – FREE Live Cool Themes, Hide Apps', 'ART_AND_DESIGN', '4.7', '87510', '8.7M', '5,000,000+', 'Free', '0', 'Everyone', 'Art & Design', 'August 1, 2018', '1.2.4', '4.0.3 and up']\n",
      "\n",
      "\n",
      "Number of rows: 9523\n",
      "Number of columns: 13\n"
     ]
    }
   ],
   "source": [
    "explore_data(dataapple_englishonly,0,2,True)\n",
    "print('\\n')\n",
    "explore_data(datagoogle_englishonly,0,2,True)"
   ]
  },
  {
   "cell_type": "markdown",
   "metadata": {},
   "source": [
    "there are 9523 google app in English and 6100 apple app in English"
   ]
  },
  {
   "cell_type": "code",
   "execution_count": 19,
   "metadata": {},
   "outputs": [
    {
     "name": "stdout",
     "output_type": "stream",
     "text": [
      "['', 'id', 'track_name', 'size_bytes', 'currency', 'price', 'rating_count_tot', 'rating_count_ver', 'user_rating', 'user_rating_ver', 'ver', 'cont_rating', 'prime_genre', 'sup_devices.num', 'ipadSc_urls.num', 'lang.num', 'vpp_lic']\n",
      "\n",
      "\n",
      "['App', 'Category', 'Rating', 'Reviews', 'Size', 'Installs', 'Type', 'Price', 'Content Rating', 'Genres', 'Last Updated', 'Current Ver', 'Android Ver']\n"
     ]
    }
   ],
   "source": [
    "print(dataappleheader)\n",
    "print('\\n')\n",
    "print(datagoogleheader)"
   ]
  },
  {
   "cell_type": "markdown",
   "metadata": {},
   "source": [
    "* To isolate the free apps in separate lists. "
   ]
  },
  {
   "cell_type": "code",
   "execution_count": 20,
   "metadata": {},
   "outputs": [
    {
     "name": "stdout",
     "output_type": "stream",
     "text": [
      "3169\n",
      "8781\n"
     ]
    }
   ],
   "source": [
    "dataapplefree=[]\n",
    "datagooglefree=[]\n",
    "\n",
    "for app in dataapple_englishonly:\n",
    "    price=app[5]\n",
    "    if price=='0':\n",
    "        dataapplefree.append(app)\n",
    "        \n",
    "for app in datagoogle_englishonly:\n",
    "    price=app[7]\n",
    "    if price=='0':\n",
    "        datagooglefree.append(app)\n",
    "        \n",
    "print(len(dataapplefree))\n",
    "print(len(datagooglefree))"
   ]
  },
  {
   "cell_type": "markdown",
   "metadata": {},
   "source": [
    "There are 8781 Android apps and 3169 iOS apps are free"
   ]
  },
  {
   "cell_type": "markdown",
   "metadata": {},
   "source": [
    "## data analysis\n",
    "\n",
    "### find which genre has most app that in the App Store and Google Play"
   ]
  },
  {
   "cell_type": "markdown",
   "metadata": {},
   "source": [
    "define a founction to generate frequency tables to find out what are the most common genres in each market.    ****sort dict by value****  define a function that we can use to display the percentages in a descending order"
   ]
  },
  {
   "cell_type": "code",
   "execution_count": 21,
   "metadata": {},
   "outputs": [],
   "source": [
    "import collections\n",
    "\n",
    "\n",
    "def freq_table(dataset,index):\n",
    "    table={}\n",
    "    total=0\n",
    "    for raw in dataset:\n",
    "        total+=1\n",
    "        value=raw[index]\n",
    "        if value in table:\n",
    "            table[value]+=1\n",
    "        else:\n",
    "            table[value]=1\n",
    "    \n",
    "    percentage={}\n",
    "    for app in table:\n",
    "        percent=round((table[app]/total)*100,2)\n",
    "        percentage[app]=percent\n",
    "\n",
    "#sort dict by value     \n",
    "    sorted_percentage = sorted(percentage.items(), key=lambda kv:kv[1],reverse = True)\n",
    "\n",
    "#convert list to dict\n",
    "    sorted_dict = collections.OrderedDict(sorted_percentage)\n",
    "    return sorted_dict\n",
    "    \n"
   ]
  },
  {
   "cell_type": "markdown",
   "metadata": {},
   "source": [
    "ios apps by 'prime_genre'"
   ]
  },
  {
   "cell_type": "code",
   "execution_count": 22,
   "metadata": {},
   "outputs": [
    {
     "data": {
      "text/plain": [
       "OrderedDict([('Games', 58.54),\n",
       "             ('Entertainment', 7.83),\n",
       "             ('Photo & Video', 5.05),\n",
       "             ('Education', 3.72),\n",
       "             ('Social Networking', 3.28),\n",
       "             ('Shopping', 2.52),\n",
       "             ('Utilities', 2.4),\n",
       "             ('Sports', 2.18),\n",
       "             ('Music', 2.05),\n",
       "             ('Health & Fitness', 1.99),\n",
       "             ('Productivity', 1.7),\n",
       "             ('Lifestyle', 1.55),\n",
       "             ('News', 1.33),\n",
       "             ('Travel', 1.14),\n",
       "             ('Finance', 1.1),\n",
       "             ('Weather', 0.85),\n",
       "             ('Food & Drink', 0.82),\n",
       "             ('Reference', 0.54),\n",
       "             ('Business', 0.54),\n",
       "             ('Book', 0.38),\n",
       "             ('Navigation', 0.19),\n",
       "             ('Medical', 0.19),\n",
       "             ('Catalogs', 0.13)])"
      ]
     },
     "execution_count": 22,
     "metadata": {},
     "output_type": "execute_result"
    }
   ],
   "source": [
    "freq_table(dataapplefree,-5)"
   ]
  },
  {
   "cell_type": "markdown",
   "metadata": {},
   "source": [
    "google apps by 'Category'"
   ]
  },
  {
   "cell_type": "code",
   "execution_count": 23,
   "metadata": {},
   "outputs": [
    {
     "data": {
      "text/plain": [
       "OrderedDict([('FAMILY', 18.95),\n",
       "             ('GAME', 9.66),\n",
       "             ('TOOLS', 8.46),\n",
       "             ('BUSINESS', 4.64),\n",
       "             ('PRODUCTIVITY', 3.93),\n",
       "             ('LIFESTYLE', 3.91),\n",
       "             ('FINANCE', 3.71),\n",
       "             ('MEDICAL', 3.54),\n",
       "             ('SPORTS', 3.33),\n",
       "             ('PERSONALIZATION', 3.3),\n",
       "             ('COMMUNICATION', 3.26),\n",
       "             ('HEALTH_AND_FITNESS', 3.1),\n",
       "             ('PHOTOGRAPHY', 2.97),\n",
       "             ('NEWS_AND_MAGAZINES', 2.8),\n",
       "             ('SOCIAL', 2.69),\n",
       "             ('TRAVEL_AND_LOCAL', 2.33),\n",
       "             ('SHOPPING', 2.25),\n",
       "             ('BOOKS_AND_REFERENCE', 2.15),\n",
       "             ('DATING', 1.86),\n",
       "             ('VIDEO_PLAYERS', 1.8),\n",
       "             ('MAPS_AND_NAVIGATION', 1.38),\n",
       "             ('FOOD_AND_DRINK', 1.23),\n",
       "             ('EDUCATION', 1.17),\n",
       "             ('ENTERTAINMENT', 0.96),\n",
       "             ('LIBRARIES_AND_DEMO', 0.93),\n",
       "             ('AUTO_AND_VEHICLES', 0.92),\n",
       "             ('HOUSE_AND_HOME', 0.8),\n",
       "             ('WEATHER', 0.79),\n",
       "             ('EVENTS', 0.72),\n",
       "             ('ART_AND_DESIGN', 0.65),\n",
       "             ('PARENTING', 0.64),\n",
       "             ('BEAUTY', 0.6),\n",
       "             ('COMICS', 0.58)])"
      ]
     },
     "execution_count": 23,
     "metadata": {},
     "output_type": "execute_result"
    }
   ],
   "source": [
    "freq_table(datagooglefree,1)"
   ]
  },
  {
   "cell_type": "markdown",
   "metadata": {},
   "source": [
    "google apps by 'Genres'. 'category' is better since 'Genres' is mixed"
   ]
  },
  {
   "cell_type": "code",
   "execution_count": 24,
   "metadata": {},
   "outputs": [
    {
     "data": {
      "text/plain": [
       "OrderedDict([('Tools', 8.45),\n",
       "             ('Entertainment', 6.07),\n",
       "             ('Education', 5.38),\n",
       "             ('Business', 4.64),\n",
       "             ('Productivity', 3.93),\n",
       "             ('Lifestyle', 3.89),\n",
       "             ('Finance', 3.71),\n",
       "             ('Medical', 3.54),\n",
       "             ('Sports', 3.39),\n",
       "             ('Personalization', 3.3),\n",
       "             ('Communication', 3.26),\n",
       "             ('Health & Fitness', 3.1),\n",
       "             ('Action', 3.1),\n",
       "             ('Photography', 2.97),\n",
       "             ('News & Magazines', 2.8),\n",
       "             ('Social', 2.69),\n",
       "             ('Travel & Local', 2.32),\n",
       "             ('Shopping', 2.25),\n",
       "             ('Books & Reference', 2.15),\n",
       "             ('Simulation', 2.05),\n",
       "             ('Dating', 1.86),\n",
       "             ('Arcade', 1.83),\n",
       "             ('Video Players & Editors', 1.78),\n",
       "             ('Casual', 1.74),\n",
       "             ('Maps & Navigation', 1.38),\n",
       "             ('Food & Drink', 1.23),\n",
       "             ('Puzzle', 1.14),\n",
       "             ('Racing', 1.0),\n",
       "             ('Role Playing', 0.95),\n",
       "             ('Libraries & Demo', 0.93),\n",
       "             ('Auto & Vehicles', 0.92),\n",
       "             ('Strategy', 0.92),\n",
       "             ('House & Home', 0.8),\n",
       "             ('Weather', 0.79),\n",
       "             ('Events', 0.72),\n",
       "             ('Adventure', 0.66),\n",
       "             ('Art & Design', 0.6),\n",
       "             ('Beauty', 0.6),\n",
       "             ('Comics', 0.57),\n",
       "             ('Parenting', 0.49),\n",
       "             ('Card', 0.44),\n",
       "             ('Casino', 0.41),\n",
       "             ('Trivia', 0.4),\n",
       "             ('Educational;Education', 0.4),\n",
       "             ('Board', 0.39),\n",
       "             ('Educational', 0.38),\n",
       "             ('Education;Education', 0.34),\n",
       "             ('Word', 0.26),\n",
       "             ('Casual;Pretend Play', 0.24),\n",
       "             ('Music', 0.19),\n",
       "             ('Entertainment;Music & Video', 0.17),\n",
       "             ('Puzzle;Brain Games', 0.17),\n",
       "             ('Racing;Action & Adventure', 0.17),\n",
       "             ('Casual;Brain Games', 0.14),\n",
       "             ('Casual;Action & Adventure', 0.14),\n",
       "             ('Arcade;Action & Adventure', 0.13),\n",
       "             ('Action;Action & Adventure', 0.1),\n",
       "             ('Educational;Pretend Play', 0.09),\n",
       "             ('Entertainment;Brain Games', 0.08),\n",
       "             ('Simulation;Action & Adventure', 0.08),\n",
       "             ('Parenting;Education', 0.08),\n",
       "             ('Art & Design;Creativity', 0.07),\n",
       "             ('Educational;Brain Games', 0.07),\n",
       "             ('Casual;Creativity', 0.07),\n",
       "             ('Education;Pretend Play', 0.06),\n",
       "             ('Board;Brain Games', 0.06),\n",
       "             ('Parenting;Music & Video', 0.06),\n",
       "             ('Education;Creativity', 0.05),\n",
       "             ('Role Playing;Pretend Play', 0.05),\n",
       "             ('Education;Brain Games', 0.03),\n",
       "             ('Entertainment;Creativity', 0.03),\n",
       "             ('Educational;Creativity', 0.03),\n",
       "             ('Adventure;Action & Adventure', 0.03),\n",
       "             ('Role Playing;Action & Adventure', 0.03),\n",
       "             ('Educational;Action & Adventure', 0.03),\n",
       "             ('Entertainment;Action & Adventure', 0.03),\n",
       "             ('Puzzle;Action & Adventure', 0.03),\n",
       "             ('Education;Action & Adventure', 0.03),\n",
       "             ('Education;Music & Video', 0.03),\n",
       "             ('Casual;Education', 0.02),\n",
       "             ('Music;Music & Video', 0.02),\n",
       "             ('Simulation;Pretend Play', 0.02),\n",
       "             ('Puzzle;Creativity', 0.02),\n",
       "             ('Sports;Action & Adventure', 0.02),\n",
       "             ('Board;Action & Adventure', 0.02),\n",
       "             ('Entertainment;Pretend Play', 0.02),\n",
       "             ('Video Players & Editors;Music & Video', 0.02),\n",
       "             ('Comics;Creativity', 0.01),\n",
       "             ('Lifestyle;Pretend Play', 0.01),\n",
       "             ('Art & Design;Pretend Play', 0.01),\n",
       "             ('Entertainment;Education', 0.01),\n",
       "             ('Arcade;Pretend Play', 0.01),\n",
       "             ('Art & Design;Action & Adventure', 0.01),\n",
       "             ('Strategy;Action & Adventure', 0.01),\n",
       "             ('Music & Audio;Music & Video', 0.01),\n",
       "             ('Health & Fitness;Education', 0.01),\n",
       "             ('Casual;Music & Video', 0.01),\n",
       "             ('Travel & Local;Action & Adventure', 0.01),\n",
       "             ('Tools;Education', 0.01),\n",
       "             ('Parenting;Brain Games', 0.01),\n",
       "             ('Video Players & Editors;Creativity', 0.01),\n",
       "             ('Health & Fitness;Action & Adventure', 0.01),\n",
       "             ('Trivia;Education', 0.01),\n",
       "             ('Lifestyle;Education', 0.01),\n",
       "             ('Card;Action & Adventure', 0.01),\n",
       "             ('Books & Reference;Education', 0.01),\n",
       "             ('Simulation;Education', 0.01),\n",
       "             ('Puzzle;Education', 0.01),\n",
       "             ('Adventure;Education', 0.01),\n",
       "             ('Role Playing;Brain Games', 0.01),\n",
       "             ('Strategy;Education', 0.01),\n",
       "             ('Racing;Pretend Play', 0.01),\n",
       "             ('Communication;Creativity', 0.01),\n",
       "             ('Strategy;Creativity', 0.01)])"
      ]
     },
     "execution_count": 24,
     "metadata": {},
     "output_type": "execute_result"
    }
   ],
   "source": [
    "freq_table(datagooglefree,-4)"
   ]
  },
  {
   "cell_type": "markdown",
   "metadata": {},
   "source": [
    "### calculate which genre has most user: \n",
    "\n",
    "One way to find out what genres are the most popular (have the most users) is to calculate the average number of installs for each app genre. For the Google Play data set, we can find this information in the Installs column, but this information is missing for the App Store data set. As a workaround, we'll take the total number of user ratings as a proxy, which we can find in the rating_count_tot app."
   ]
  },
  {
   "cell_type": "markdown",
   "metadata": {},
   "source": [
    "use nested loop to calculate avaerage"
   ]
  },
  {
   "cell_type": "code",
   "execution_count": 25,
   "metadata": {},
   "outputs": [
    {
     "name": "stdout",
     "output_type": "stream",
     "text": [
      "OrderedDict([('Navigation', 86090.33), ('Reference', 79350.47), ('Social Networking', 72916.55), ('Music', 58205.03), ('Weather', 54215.3), ('Book', 46384.92), ('Food & Drink', 33333.92), ('Finance', 32367.03), ('Travel', 31358.5), ('Photo & Video', 28441.54), ('Shopping', 27816.2), ('Health & Fitness', 24037.63), ('Sports', 23008.9), ('Games', 22985.21), ('Productivity', 21799.15), ('News', 21750.07), ('Utilities', 19900.47), ('Lifestyle', 16739.35), ('Entertainment', 14364.77), ('Business', 7491.12), ('Education', 7003.98), ('Catalogs', 4004.0), ('Medical', 612.0)])\n"
     ]
    }
   ],
   "source": [
    "genre_ios= freq_table(dataapplefree,-5)\n",
    "avggenreios={}\n",
    "for genre in genre_ios:\n",
    "    total=0\n",
    "    totalapp=0\n",
    "    for app in dataapplefree:\n",
    "        if app[-5]==genre:\n",
    "            total+=float(app[6])\n",
    "            totalapp+=1\n",
    "    avggenreios[genre]=round(total/totalapp,2)\n",
    "#    avggenre=total/totalapp\n",
    "#sort dict by value     \n",
    "    sorted_iosgenre = sorted(avggenreios.items(), key=lambda kv:kv[1],reverse = True)\n",
    "\n",
    "#convert list to dict\n",
    "    sorted_dict_iosgenre  = collections.OrderedDict(sorted_iosgenre )\n",
    "print(sorted_dict_iosgenre)\n",
    "    \n"
   ]
  },
  {
   "cell_type": "markdown",
   "metadata": {},
   "source": [
    "in apple app store, 'Navigation' has the most reviews. dig into the apps included:WAZE and Google maps account for 96% of the numbers in this genre"
   ]
  },
  {
   "cell_type": "code",
   "execution_count": 26,
   "metadata": {},
   "outputs": [
    {
     "name": "stdout",
     "output_type": "stream",
     "text": [
      "Waze - GPS Navigation, Maps & Real-time Traffic : 345046\n",
      "Geocaching® : 12811\n",
      "ImmobilienScout24: Real Estate Search in Germany : 187\n",
      "Railway Route Search : 5\n",
      "CoPilot GPS – Car Navigation & Offline Maps : 3582\n",
      "Google Maps - Navigation & Transit : 154911\n"
     ]
    }
   ],
   "source": [
    "for app in dataapplefree:\n",
    "    if app[-5]=='Navigation':\n",
    "        print(app[2],':',app[6])"
   ]
  },
  {
   "cell_type": "code",
   "execution_count": 27,
   "metadata": {},
   "outputs": [
    {
     "name": "stdout",
     "output_type": "stream",
     "text": [
      "Facebook : 2974676\n",
      "LinkedIn : 71856\n",
      "Skype for iPhone : 373519\n",
      "Tumblr : 334293\n",
      "Match™ - #1 Dating App. : 60659\n",
      "WhatsApp Messenger : 287589\n",
      "TextNow - Unlimited Text + Calls : 164963\n",
      "Grindr - Gay and same sex guys chat, meet and date : 23201\n",
      "imo video calls and chat : 18841\n",
      "Ameba : 269\n",
      "Weibo : 7265\n",
      "Badoo - Meet New People, Chat, Socialize. : 34428\n",
      "Kik : 260965\n",
      "Qzone : 1649\n",
      "Fake-A-Location Free ™ : 354\n",
      "Tango - Free Video Call, Voice and Chat : 75412\n",
      "MeetMe - Chat and Meet New People : 97072\n",
      "SimSimi : 23530\n",
      "Viber Messenger – Text & Call : 164249\n",
      "Find My Family, Friends & iPhone - Life360 Locator : 43877\n",
      "Weibo HD : 16772\n",
      "POF - Best Dating App for Conversations : 52642\n",
      "GroupMe : 28260\n",
      "Lobi : 36\n",
      "WeChat : 34584\n",
      "ooVoo – Free Video Call, Text and Voice : 177501\n",
      "Pinterest : 1061624\n",
      "Qzone HD : 458\n",
      "Skype for iPad : 60163\n",
      "LINE : 11437\n",
      "QQ : 9109\n",
      "LOVOO - Dating Chat : 1985\n",
      "QQ HD : 5058\n",
      "Messenger : 351466\n",
      "eHarmony™ Dating App - Meet Singles : 11124\n",
      "YouNow: Live Stream Video Chat : 12079\n",
      "Cougar Dating & Life Style App for Mature Women : 213\n",
      "Battlefield™ Companion : 689\n",
      "Whisper - Share, Express, Meet : 39819\n",
      "We Heart It - Fashion, wallpapers, quotes, tattoos : 90414\n",
      "Followers - Social Analytics For Instagram : 112778\n",
      "InsTrack for Instagram - Analytics Plus More : 85535\n",
      "Followers + for Instagram - Follower Analytics : 28633\n",
      "Timehop : 49510\n",
      "Repost for Instagram : 15185\n",
      "LINE PLAY - Your Avatar World : 34677\n",
      "Nextdoor : 14402\n",
      "Hangouts : 36404\n",
      "FollowMeter for Instagram - Followers Tracking : 11976\n",
      "Telegram Messenger : 7573\n",
      "Chatous - Chat with new people : 1609\n",
      "QQ International : 274\n",
      "FireChat : 1037\n",
      "Jodel : 1193\n",
      "Wishbone - Compare Anything : 20649\n",
      "Zenly - Locate your friends in realtime : 427\n",
      "Tantan : 235\n",
      "Flinch - Video Chat Staring Contest : 2134\n",
      "botman - Real time video chat : 7\n",
      "Marco Polo Video Walkie Talkie : 27662\n",
      "After School - Funny Anonymous School News : 18482\n",
      "Highrise - Your Avatar Community : 2011\n",
      "Quick Reposter - Repost, Regram and Reshare Photos : 17694\n",
      "Kiwi - Q&A : 1538\n",
      "Periscope - Live Video Streaming Around the World : 6062\n",
      "Inke—Broadcast an amazing life : 147\n",
      "Discord - Chat for Gamers : 9152\n",
      "Candid - Speak Your Mind Freely : 398\n",
      "Down To Lunch : 2535\n",
      "SOMA Messenger : 3232\n",
      "Rawr Messenger - Dab your chat : 180\n",
      "Popcorn Buzz - Free Group Calls : 281\n",
      "Chain: Collaborate On MyVideo Story/Group Video : 35\n",
      "BestieBox : 0\n",
      "Selfeo : 366\n",
      "Followers Analysis Tool For Instagram App Free : 4253\n",
      "Hey! VINA - Where Women Meet New Friends : 719\n",
      "PlayStation®Messages : 1918\n",
      "WhenToPost: Best Time to Post Photos for Instagram : 158\n",
      "MATCH ON LINE chat : 0\n",
      "Fiesta by Tango - Chat & Meet New People : 885\n",
      "Houseparty - Group Video Chat : 3991\n",
      "All Devices for WhatsApp - Messenger for iPad : 682\n",
      "Peach — share vividly : 727\n",
      "bit-tube - Live Stream Video Chat : 0\n",
      "Miitomo : 23965\n",
      "SoundCloud Pulse: for creators : 240\n",
      "IAmNaughty – Dating App to Meet New People Online : 463\n",
      "League of Legends Friends : 420\n",
      "GhostCodes - a discovery app for Snapchat : 1313\n",
      "live.ly - live video streaming : 4145\n",
      "Live.me – Live Video Chat & Make Friends Nearby : 14724\n",
      "BOO! - Video chat camera with filters & stickers : 1805\n",
      "Google Allo — smart messaging : 862\n",
      "Google Duo - simple video calling : 1033\n",
      "Chat for Whatsapp - iPad Version : 5060\n",
      "Chat for Pokemon Go - GoChat : 500\n",
      "niconico ch : 0\n",
      "Followers Analytics for Instagram - InstaReport : 13914\n",
      "Monkey : 3060\n",
      "LINE BLOG : 0\n",
      "Mustknow - anonymous video Q&A : 53\n",
      "CTFxCmoji : 39\n",
      "Fam — Group video calling for iMessage : 279\n"
     ]
    }
   ],
   "source": [
    "for app in dataapplefree:\n",
    "    if app[-5]=='Social Networking':\n",
    "        print(app[2],':',app[6])"
   ]
  },
  {
   "cell_type": "markdown",
   "metadata": {},
   "source": [
    "### Most Popular Apps by Genre on Google Play\n",
    "For the Google Play market, we actually have data about the number of installs, so we should be able to get a clearer picture about genre popularity. However, the install numbers don't seem precise enough — we can see that most values are open-ended (100+, 1,000+, 5,000+, etc.). We're going to leave the numbers as they are, which means that we'll consider that an app with 100,000+ installs has 100,000 installs, and an app with 1,000,000+ installs has 1,000,000 installs, and so on."
   ]
  },
  {
   "cell_type": "code",
   "execution_count": 36,
   "metadata": {},
   "outputs": [
    {
     "name": "stdout",
     "output_type": "stream",
     "text": [
      "OrderedDict([('COMMUNICATION', 38590581.09), ('VIDEO_PLAYERS', 24878048.86), ('SOCIAL', 23253652.13), ('PHOTOGRAPHY', 17840110.4), ('PRODUCTIVITY', 16787331.34), ('GAME', 15593824.69), ('TRAVEL_AND_LOCAL', 14120454.08), ('ENTERTAINMENT', 11767380.95), ('TOOLS', 10902378.83), ('NEWS_AND_MAGAZINES', 9626407.36), ('BOOKS_AND_REFERENCE', 8814199.79), ('SHOPPING', 7072366.59), ('PERSONALIZATION', 5273184.1), ('WEATHER', 5212877.1), ('HEALTH_AND_FITNESS', 4204220.23), ('MAPS_AND_NAVIGATION', 4115374.21), ('SPORTS', 3750580.64), ('FAMILY', 3717297.58), ('ART_AND_DESIGN', 1986335.09), ('FOOD_AND_DRINK', 1951283.81), ('EDUCATION', 1833495.15), ('BUSINESS', 1712290.15), ('LIFESTYLE', 1447458.98), ('HOUSE_AND_HOME', 1380033.73), ('FINANCE', 1365500.4), ('DATING', 861409.55), ('COMICS', 859042.16), ('AUTO_AND_VEHICLES', 654074.83), ('LIBRARIES_AND_DEMO', 645070.85), ('PARENTING', 552875.18), ('BEAUTY', 513151.89), ('EVENTS', 253542.22), ('MEDICAL', 121161.88)])\n"
     ]
    }
   ],
   "source": [
    "googlecat=freq_table(datagooglefree,1)\n",
    "avgcatgoogle={}\n",
    "for cat in googlecat:\n",
    "    totalapp=0\n",
    "    totaluser=0\n",
    "    for app in datagooglefree:\n",
    "        if app[1]==cat:\n",
    "            n_user=app[5]\n",
    "            n_user=n_user.replace(',','')\n",
    "            n_user=n_user.replace('+','')\n",
    "            n_user=float(n_user)\n",
    "            totalapp+=1\n",
    "            totaluser+=n_user\n",
    "    avgcatgoogle[cat]=round(totaluser/totalapp,2)\n",
    "\n",
    "#sort dict by value     \n",
    "sorted_googlecat = sorted(avgcatgoogle.items(), key=lambda kv:kv[1],reverse = True)\n",
    "\n",
    "#convert list to dict\n",
    "sorted_dict_googleca  = collections.OrderedDict(sorted_googlecat )\n",
    "print(sorted_dict_googleca)\n",
    "    \n"
   ]
  },
  {
   "cell_type": "markdown",
   "metadata": {},
   "source": [
    "\n",
    "On average, communication apps have the most installs: 38,456,119. This number is heavily influenced by a few apps that have over one billion installs (WhatsApp, Facebook Messenger, Skype, Google Chrome, Gmail, and Hangouts), and a few others with over 100 and 500 million installs\n"
   ]
  },
  {
   "cell_type": "code",
   "execution_count": 38,
   "metadata": {},
   "outputs": [
    {
     "name": "stdout",
     "output_type": "stream",
     "text": [
      "WhatsApp Messenger : 1,000,000,000+\n",
      "Messenger for SMS : 10,000,000+\n",
      "My Tele2 : 5,000,000+\n",
      "imo beta free calls and text : 100,000,000+\n",
      "Contacts : 50,000,000+\n",
      "Call Free – Free Call : 5,000,000+\n",
      "Web Browser & Explorer : 5,000,000+\n",
      "Browser 4G : 10,000,000+\n",
      "MegaFon Dashboard : 10,000,000+\n",
      "ZenUI Dialer & Contacts : 10,000,000+\n",
      "Cricket Visual Voicemail : 10,000,000+\n",
      "TracFone My Account : 1,000,000+\n",
      "Xperia Link™ : 10,000,000+\n",
      "TouchPal Keyboard - Fun Emoji & Android Keyboard : 10,000,000+\n",
      "Skype Lite - Free Video Call & Chat : 5,000,000+\n",
      "My magenta : 1,000,000+\n",
      "Android Messages : 100,000,000+\n",
      "Google Duo - High Quality Video Calls : 500,000,000+\n",
      "Seznam.cz : 1,000,000+\n",
      "Antillean Gold Telegram (original version) : 100,000+\n",
      "AT&T Visual Voicemail : 10,000,000+\n",
      "GMX Mail : 10,000,000+\n",
      "Omlet Chat : 10,000,000+\n",
      "My Vodacom SA : 5,000,000+\n",
      "Microsoft Edge : 5,000,000+\n",
      "Messenger – Text and Video Chat for Free : 1,000,000,000+\n",
      "imo free video calls and chat : 500,000,000+\n",
      "Calls & Text by Mo+ : 5,000,000+\n",
      "free video calls and chat : 50,000,000+\n",
      "Skype - free IM & video calls : 1,000,000,000+\n",
      "Who : 100,000,000+\n",
      "GO SMS Pro - Messenger, Free Themes, Emoji : 100,000,000+\n",
      "Messaging+ SMS, MMS Free : 1,000,000+\n",
      "chomp SMS : 10,000,000+\n",
      "Glide - Video Chat Messenger : 10,000,000+\n",
      "Text SMS : 10,000,000+\n",
      "Talkray - Free Calls & Texts : 10,000,000+\n",
      "LINE: Free Calls & Messages : 500,000,000+\n",
      "GroupMe : 10,000,000+\n",
      "mysms SMS Text Messaging Sync : 1,000,000+\n",
      "2ndLine - Second Phone Number : 1,000,000+\n",
      "Google Chrome: Fast & Secure : 1,000,000,000+\n",
      "Firefox Browser fast & private : 100,000,000+\n",
      "Ninesky Browser : 1,000,000+\n",
      "Dolphin Browser - Fast, Private & Adblock🐬 : 50,000,000+\n",
      "UC Browser - Fast Download Private & Secure : 500,000,000+\n",
      "Ghostery Privacy Browser : 1,000,000+\n",
      "InBrowser - Incognito Browsing : 1,000,000+\n",
      "Lightning Web Browser : 500,000+\n",
      "Web Browser : 500,000+\n",
      "Contacts+ : 10,000,000+\n",
      "ExDialer - Dialer & Contacts : 10,000,000+\n",
      "PHONE for Google Voice & GTalk : 1,000,000+\n",
      "Safest Call Blocker : 1,000,000+\n",
      "Full Screen Caller ID : 5,000,000+\n",
      "Hiya - Caller ID & Block : 10,000,000+\n",
      "Mr. Number-Block calls & spam : 10,000,000+\n",
      "Should I Answer? : 1,000,000+\n",
      "RocketDial Dialer & Contacts : 1,000,000+\n",
      "CIA - Caller ID & Call Blocker : 5,000,000+\n",
      "Calls Blacklist - Call Blocker : 10,000,000+\n",
      "Call Control - Call Blocker : 5,000,000+\n",
      "True Contact - Real Caller ID : 1,000,000+\n",
      "Video Caller Id : 1,000,000+\n",
      "Sync.ME – Caller ID & Block : 5,000,000+\n",
      "Burner - Free Phone Number : 1,000,000+\n",
      "Caller ID + : 1,000,000+\n",
      "Gmail : 1,000,000,000+\n",
      "K-9 Mail : 5,000,000+\n",
      "myMail – Email for Hotmail, Gmail and Outlook Mail : 10,000,000+\n",
      "Email TypeApp - Mail App : 1,000,000+\n",
      "All Email Providers : 1,000,000+\n",
      "Newton Mail - Email App for Gmail, Outlook, IMAP : 1,000,000+\n",
      "GO Notifier : 10,000,000+\n",
      "Mail.Ru - Email App : 50,000,000+\n",
      "Mail1Click - Secure Mail : 10,000+\n",
      "Daum Mail - Next Mail : 5,000,000+\n",
      "mail.com mail : 1,000,000+\n",
      "SolMail - All-in-One email app : 500,000+\n",
      "Hangouts : 1,000,000,000+\n",
      "Vonage Mobile® Call Video Text : 1,000,000+\n",
      "JusTalk - Free Video Calls and Fun Video Chat : 5,000,000+\n",
      "Azar : 50,000,000+\n",
      "LokLok: Draw on a Lock Screen : 500,000+\n",
      "Discord - Chat for Gamers : 10,000,000+\n",
      "Messenger Lite: Free Calls & Messages : 100,000,000+\n",
      "AntennaPict β : 1,000,000+\n",
      "Talkatone: Free Texts, Calls & Phone Number : 10,000,000+\n",
      "Kik : 100,000,000+\n",
      "K-@ Mail - Email App : 100,000+\n",
      "KakaoTalk: Free Calls & Text : 100,000,000+\n",
      "K-9 Material (unofficial) : 5,000+\n",
      "M star Dialer : 100,000+\n",
      "Free WiFi Connect : 10,000,000+\n",
      "m:go BiH : 10,000+\n",
      "N-Com Wizard : 50,000+\n",
      "Opera Mini - fast web browser : 100,000,000+\n",
      "Opera Browser: Fast and Secure : 100,000,000+\n",
      "Opera Mini browser beta : 10,000,000+\n",
      "Psiphon Pro - The Internet Freedom VPN : 10,000,000+\n",
      "ICQ — Video Calls & Chat Messenger : 10,000,000+\n",
      "Telegram : 100,000,000+\n",
      "AT&T Messages for Tablet : 1,000,000+\n",
      "T-Mobile DIGITS : 100,000+\n",
      "Truecaller: Caller ID, SMS spam blocking & Dialer : 100,000,000+\n",
      "Portable Wi-Fi hotspot : 10,000,000+\n",
      "AT&T Call Protect : 5,000,000+\n",
      "U - Webinars, Meetings & Messenger : 500,000+\n",
      "UC Browser Mini -Tiny Fast Private & Secure : 100,000,000+\n",
      "/u/app : 10,000+\n",
      "[verify-U] VideoIdent : 10,000+\n",
      "Viber Messenger : 500,000,000+\n",
      "WeChat : 100,000,000+\n",
      "WhatsApp Business : 10,000,000+\n",
      "WhatsCall Free Global Phone Call App & Cheap Calls : 10,000,000+\n",
      "X Browser : 50,000+\n",
      "Yahoo Mail – Stay Organized : 100,000,000+\n",
      "Free Adblocker Browser - Adblock & Popup Blocker : 10,000,000+\n",
      "Adblock Browser for Android : 10,000,000+\n",
      "CM Browser - Ad Blocker , Fast Download , Privacy : 50,000,000+\n",
      "Adblock Plus for Samsung Internet - Browse safe. : 1,000,000+\n",
      "Ad Blocker Turbo - Adblocker Browser : 10,000+\n",
      "Brave Browser: Fast AdBlocker : 5,000,000+\n",
      "AG Contacts, Lite edition : 5,000+\n",
      "Oklahoma Ag Co-op Council : 10+\n",
      "Bee'ah Employee App : 100+\n",
      "tournaments and more.aj.2 : 100+\n",
      "Aj.Petra : 100+\n",
      "AK Phone : 5,000+\n",
      "PlacarTv Futebol Ao Vivo : 100,000+\n",
      "WiFi Access Point (hotspot) : 100,000+\n",
      "Access Point Names : 10,000+\n",
      "Puffin Web Browser : 10,000,000+\n",
      "ClanHQ : 10,000+\n",
      "Ear Agent: Super Hearing : 5,000,000+\n",
      "Google Voice : 10,000,000+\n",
      "Google Allo : 10,000,000+\n",
      "AU Call Blocker - Block Unwanted Calls Texts 2018 : 1,000+\n",
      "Baby Monitor AV : 100,000+\n",
      "AV Phone : 1,000+\n",
      "AW - free video calls and chat : 1,000,000+\n",
      "Katalogen.ax : 100+\n",
      "AZ Browser. Private & Download : 100,000+\n",
      "BA SALES : 1+\n",
      "BD Data Plan (3G & 4G) : 500,000+\n",
      "BD Internet Packages (Updated) : 50,000+\n",
      "BD Dialer : 10,000+\n",
      "BD Live Call : 5,000+\n",
      "Best Browser BD social networking : 10+\n",
      "Traffic signs BD : 500+\n",
      "BF Browser by Betfilter - Stop Gambling Today! : 10,000+\n",
      "My BF App : 50,000+\n",
      "BH Mail : 1,000+\n",
      "Zalo – Video Call : 50,000,000+\n",
      "BJ - Confidential : 10+\n",
      "BK Chat : 1,000+\n",
      "Of the wall Arapaho bk : 5+\n",
      "AC-BL : 50+\n",
      "BBM - Free Calls & Messages : 100,000,000+\n",
      "DMR BrandMeister Tool : 10,000+\n",
      "BBMoji - Your personalized BBM Stickers : 1,000,000+\n",
      "BN MALLORCA Radio : 1,000+\n",
      "BQ Partners : 1,000+\n",
      "BS-Mobile : 50+\n",
      "ATC Unico BS : 500+\n",
      "BT One Voice mobile access : 5,000+\n",
      "BT Messenger : 50,000+\n",
      "BT One Phone Mobile App : 10,000+\n",
      "SW-100.tch by Callstel : 1,000,000+\n",
      "BT MeetMe with Dolby Voice : 100,000+\n",
      "Bluetooth Auto Connect : 5,000,000+\n",
      "AudioBT: BT audio GPS/SMS/Text : 50,000+\n",
      "BV : 100+\n",
      "Feel Performer : 10,000+\n",
      "Tiny Call Confirm : 1,000,000+\n",
      "CB Radio Chat - for friends! : 1,000,000+\n",
      "CB On Mobile : 100,000+\n",
      "Virtual Walkie Talkie : 1,000,000+\n",
      "Channel 19 : 100,000+\n",
      "Cb browser : 50+\n",
      "CF Chat: Connecting Friends : 100+\n",
      "retteMi.ch : 5,000+\n",
      "Chrome Dev : 5,000,000+\n",
      "CJ Browser - Fast & Private : 100+\n",
      "CJ DVD Rentals : 100+\n",
      "CK Call NEW : 10+\n",
      "CM Transfer - Share any files with friends nearby : 5,000,000+\n",
      "mail.co.uk Mail : 5,000+\n",
      "ClanPlay: Community and Tools for Gamers : 1,000,000+\n",
      "CQ-Mobile : 1,000+\n",
      "CQ-Alert : 500+\n",
      "QRZ Assistant : 100,000+\n",
      "Pocket Prefix Plus : 10,000+\n",
      "Ham Radio Prefixes : 10,000+\n",
      "CS Customizer : 1,000+\n",
      "CS Browser | #1 & BEST BROWSER : 1,000+\n",
      "CS Browser Beta : 5,000+\n",
      "My Vodafone (GR) : 1,000,000+\n",
      "IZ2UUF Morse Koch CW : 50,000+\n",
      "C W Browser : 100+\n",
      "CW Bluetooth SPP : 100+\n",
      "CW BLE Peripheral Simulator : 500+\n",
      "Morse Code Reader : 100,000+\n",
      "Learn Morse Code - G0HYN Learn Morse : 5,000+\n",
      "Ring : 10,000+\n",
      "Hyundai CX Conference : 50+\n",
      "Cy Messenger : 100+\n",
      "Amadeus GR & CY : 100+\n",
      "SMS Sender - sluzba.cz : 1,000+\n",
      "WEB.DE Mail : 10,000,000+\n",
      "Your Freedom VPN Client : 5,000,000+\n",
      "CallApp: Caller ID, Blocker & Phone Call Recorder : 10,000,000+\n",
      "Rádio Sol Nascente DF : 500+\n",
      "DG Card : 100+\n",
      "Whoscall - Caller ID & Block : 10,000,000+\n",
      "DK Browser : 10+\n",
      "cluster.dk : 1,000+\n",
      "DK TEL Dialer : 50+\n",
      "DM for WhatsApp : 5,000+\n",
      "DM Talk New : 5,000+\n",
      "DM - The Offical Messaging App : 10+\n",
      "DM Tracker : 1,000+\n",
      "Call Blocker & Blacklist : 1,000+\n",
      "ReadyOp DT : 1,000+\n",
      "DU Browser—Browse fast & fun : 10,000,000+\n",
      "Caller ID & Call Block - DU Caller : 5,000,000+\n",
      "BlueDV AMBE : 1,000+\n",
      "DW Contacts & Phone & Dialer : 1,000,000+\n",
      "Deaf World DW : 10,000+\n",
      "Ham DX Cluster & Spots Finder : 5,000+\n",
      "Mircules DX Cluster Lite : 5,000+\n",
      "3G DZ Configuration : 50,000+\n",
      "chat dz : 100+\n",
      "love sms good morning : 5,000+\n",
      "Goodbox - Mega App : 100,000+\n",
      "Call Blocker - Blacklist, SMS Blocker : 1,000,000+\n",
      "[EF]ShoutBox : 100+\n",
      "Eg Call : 10,000+\n",
      "ei : 10+\n",
      "EJ messenger : 10+\n",
      "Ek IRA : 10+\n",
      "Orfox: Tor Browser for Android : 10,000,000+\n",
      "EO Mumbai : 10+\n",
      "EP RSS Reader : 100+\n",
      "Voxer Walkie Talkie Messenger : 10,000,000+\n",
      "ES-1 : 500+\n",
      "Hangouts Dialer - Call Phones : 10,000,000+\n",
      "EU Council : 1,000+\n",
      "Council Voting Calculator : 5,000+\n",
      "Have your say on Europe : 500+\n",
      "Programi podrške EU : 100+\n",
      "Inbox.eu : 10,000+\n",
      "Web Browser for Android : 1,000,000+\n",
      "Everbridge : 100,000+\n",
      "Best Auto Call Recorder Free : 500+\n",
      "EZ Wifi Notification : 10,000+\n",
      "Test Server SMS FA : 5+\n",
      "Lite for Facebook Messenger : 1,000,000+\n",
      "FC Browser - Focus Privacy Browser : 1,000+\n",
      "EHiN-FH conferenceapp : 100+\n",
      "Carpooling FH Hagenberg : 100+\n",
      "Wi-Fi Auto-connect : 1,000,000+\n",
      "Talkie - Wi-Fi Calling, Chats, File Sharing : 500,000+\n",
      "WeFi - Free Fast WiFi Connect & Find Wi-Fi Map : 1,000,000+\n",
      "Sat-Fi : 5,000+\n",
      "Portable Wi-Fi hotspot Free : 100,000+\n",
      "TownWiFi | Wi-Fi Everywhere : 500,000+\n",
      "Jazz Wi-Fi : 10,000+\n",
      "Sat-Fi Voice : 1,000+\n",
      "Free Wi-fi HotspoT : 50,000+\n",
      "FN Web Radio : 10+\n",
      "FNH Payment Info : 10+\n",
      "MARKET FO : 100+\n",
      "FO OP St-Nazaire : 100+\n",
      "FO SODEXO : 100+\n",
      "FO RCBT : 100+\n",
      "FO Interim : 100+\n",
      "FO PSA Sept-Fons : 100+\n",
      "FO AIRBUS TLSE : 1,000+\n",
      "FO STELIA Méaulte : 100+\n",
      "FO AIRBUS Nantes : 100+\n",
      "Firefox Focus: The privacy browser : 1,000,000+\n",
      "FP Connect : 100+\n",
      "FreedomPop Messaging Phone/SIM : 500,000+\n",
      "FP Live : 10+\n",
      "HipChat - beta version : 50,000+\n"
     ]
    }
   ],
   "source": [
    "for app in datagooglefree:\n",
    "    if app[1]=='COMMUNICATION':\n",
    "        print(app[0], ':', app[5])"
   ]
  },
  {
   "cell_type": "markdown",
   "metadata": {},
   "source": [
    "If we removed all the communication apps that have over 100 million installs, the average would be reduced roughly ten times:"
   ]
  },
  {
   "cell_type": "code",
   "execution_count": 39,
   "metadata": {},
   "outputs": [
    {
     "data": {
      "text/plain": [
       "3617398.420849421"
      ]
     },
     "execution_count": 39,
     "metadata": {},
     "output_type": "execute_result"
    }
   ],
   "source": [
    "under_100m=[]\n",
    "for app in datagooglefree:\n",
    "    n_user = app[5]\n",
    "    n_user = n_user.replace(',', '')\n",
    "    n_user = n_user.replace('+', '')\n",
    "    if (app[1] == 'COMMUNICATION') and (float(n_user) < 100000000):\n",
    "        under_100m.append(float(n_user))\n",
    "avg_under_100m=sum(under_100m)/len(under_100m)\n",
    "avg_under_100m"
   ]
  },
  {
   "cell_type": "markdown",
   "metadata": {},
   "source": [
    "We see the same pattern for the video players category, which is the runner-up with 24,727,872 installs. The market is dominated by apps like Youtube, Google Play Movies & TV, or MX Player. The pattern is repeated for social apps (where we have giants like Facebook, Instagram, Google+, etc.), photography apps (Google Photos and other popular photo editors), or productivity apps (Microsoft Word, Dropbox, Google Calendar, Evernote, etc.)."
   ]
  }
 ],
 "metadata": {
  "kernelspec": {
   "display_name": "Python 3",
   "language": "python",
   "name": "python3"
  },
  "language_info": {
   "codemirror_mode": {
    "name": "ipython",
    "version": 3
   },
   "file_extension": ".py",
   "mimetype": "text/x-python",
   "name": "python",
   "nbconvert_exporter": "python",
   "pygments_lexer": "ipython3",
   "version": "3.6.4"
  }
 },
 "nbformat": 4,
 "nbformat_minor": 2
}
